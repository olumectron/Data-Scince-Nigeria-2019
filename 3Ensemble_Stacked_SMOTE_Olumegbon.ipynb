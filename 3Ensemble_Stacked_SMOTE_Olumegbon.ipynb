{
 "cells": [
  {
   "cell_type": "code",
   "execution_count": 229,
   "metadata": {},
   "outputs": [],
   "source": [
    "import pandas as pd\n",
    "import matplotlib.pylab as plt\n",
    "import numpy as np\n",
    "import seaborn as sns\n",
    "from sklearn.preprocessing import LabelEncoder, OneHotEncoder"
   ]
  },
  {
   "cell_type": "code",
   "execution_count": 230,
   "metadata": {},
   "outputs": [],
   "source": [
    "import lightgbm as lgb"
   ]
  },
  {
   "cell_type": "code",
   "execution_count": 231,
   "metadata": {},
   "outputs": [],
   "source": [
    "#importing libraries\n",
    "from sklearn.datasets import load_boston\n",
    "import pandas as pd\n",
    "import numpy as np\n",
    "import matplotlib\n",
    "import matplotlib.pyplot as plt\n",
    "import seaborn as sns\n",
    "import statsmodels.api as sm\n",
    "%matplotlib inline\n",
    "from sklearn.model_selection import train_test_split\n",
    "from sklearn.linear_model import LinearRegression\n",
    "from sklearn.linear_model import LogisticRegression\n",
    "from sklearn.tree import DecisionTreeClassifier\n",
    "from sklearn.neighbors import KNeighborsClassifier\n",
    "from sklearn.discriminant_analysis import LinearDiscriminantAnalysis\n",
    "from sklearn.naive_bayes import GaussianNB\n",
    "from sklearn.svm import SVC\n",
    "from sklearn.ensemble import AdaBoostClassifier\n",
    "from sklearn.ensemble import GradientBoostingClassifier\n",
    "from sklearn.ensemble import RandomForestClassifier\n",
    "from sklearn.ensemble import ExtraTreesClassifier\n",
    "from sklearn.feature_selection import RFE\n",
    "from sklearn.linear_model import RidgeCV, LassoCV, Ridge, Lasso"
   ]
  },
  {
   "cell_type": "code",
   "execution_count": 232,
   "metadata": {},
   "outputs": [],
   "source": [
    "# Load libraries\n",
    "import numpy\n",
    "from matplotlib import pyplot\n",
    "from pandas import read_csv\n",
    "from pandas import set_option\n",
    "from pandas.plotting import scatter_matrix\n",
    "from sklearn.preprocessing import StandardScaler\n",
    "from sklearn.model_selection import train_test_split\n",
    "from sklearn.model_selection import KFold\n",
    "from sklearn.model_selection import cross_val_score\n",
    "from sklearn.model_selection import GridSearchCV\n",
    "from sklearn.metrics import classification_report\n",
    "from sklearn.metrics import confusion_matrix\n",
    "from sklearn.metrics import accuracy_score\n",
    "from sklearn.pipeline import Pipeline\n",
    "from sklearn.linear_model import LogisticRegression\n",
    "from sklearn.tree import DecisionTreeClassifier\n",
    "from sklearn.neighbors import KNeighborsClassifier\n",
    "from sklearn.discriminant_analysis import LinearDiscriminantAnalysis\n",
    "from sklearn.naive_bayes import GaussianNB\n",
    "from sklearn.svm import SVC\n",
    "from sklearn.ensemble import AdaBoostClassifier\n",
    "from sklearn.ensemble import GradientBoostingClassifier\n",
    "from sklearn.ensemble import RandomForestClassifier\n",
    "from sklearn.ensemble import ExtraTreesClassifier"
   ]
  },
  {
   "cell_type": "code",
   "execution_count": 233,
   "metadata": {},
   "outputs": [
    {
     "data": {
      "text/html": [
       "<div>\n",
       "<style scoped>\n",
       "    .dataframe tbody tr th:only-of-type {\n",
       "        vertical-align: middle;\n",
       "    }\n",
       "\n",
       "    .dataframe tbody tr th {\n",
       "        vertical-align: top;\n",
       "    }\n",
       "\n",
       "    .dataframe thead th {\n",
       "        text-align: right;\n",
       "    }\n",
       "</style>\n",
       "<table border=\"1\" class=\"dataframe\">\n",
       "  <thead>\n",
       "    <tr style=\"text-align: right;\">\n",
       "      <th></th>\n",
       "      <th>Qualification</th>\n",
       "      <th>Gender</th>\n",
       "      <th>Div_0</th>\n",
       "      <th>Div_1</th>\n",
       "      <th>Div_2</th>\n",
       "      <th>Div_3</th>\n",
       "      <th>Div_4</th>\n",
       "      <th>Div_5</th>\n",
       "      <th>Div_6</th>\n",
       "      <th>Div_7</th>\n",
       "      <th>...</th>\n",
       "      <th>Targets_met</th>\n",
       "      <th>Previous_Award</th>\n",
       "      <th>Training_score_average</th>\n",
       "      <th>Foreign_schooled</th>\n",
       "      <th>Past_Disciplinary_Action</th>\n",
       "      <th>Previous_IntraDepartmental_Movement</th>\n",
       "      <th>Age</th>\n",
       "      <th>Length_of_Service</th>\n",
       "      <th>No_of_previous_employers</th>\n",
       "      <th>Promoted_or_Not</th>\n",
       "    </tr>\n",
       "  </thead>\n",
       "  <tbody>\n",
       "    <tr>\n",
       "      <th>0</th>\n",
       "      <td>1.0</td>\n",
       "      <td>0.0</td>\n",
       "      <td>0.0</td>\n",
       "      <td>1.0</td>\n",
       "      <td>0.0</td>\n",
       "      <td>0.0</td>\n",
       "      <td>0.0</td>\n",
       "      <td>0.0</td>\n",
       "      <td>0.0</td>\n",
       "      <td>0.0</td>\n",
       "      <td>...</td>\n",
       "      <td>1.0</td>\n",
       "      <td>0.0</td>\n",
       "      <td>0.314329</td>\n",
       "      <td>0.0</td>\n",
       "      <td>0.0</td>\n",
       "      <td>0.0</td>\n",
       "      <td>0.580645</td>\n",
       "      <td>0.507890</td>\n",
       "      <td>0.000000</td>\n",
       "      <td>0.0</td>\n",
       "    </tr>\n",
       "    <tr>\n",
       "      <th>1</th>\n",
       "      <td>0.5</td>\n",
       "      <td>1.0</td>\n",
       "      <td>0.0</td>\n",
       "      <td>0.0</td>\n",
       "      <td>1.0</td>\n",
       "      <td>0.0</td>\n",
       "      <td>0.0</td>\n",
       "      <td>0.0</td>\n",
       "      <td>0.0</td>\n",
       "      <td>0.0</td>\n",
       "      <td>...</td>\n",
       "      <td>0.0</td>\n",
       "      <td>0.0</td>\n",
       "      <td>0.548535</td>\n",
       "      <td>1.0</td>\n",
       "      <td>0.0</td>\n",
       "      <td>0.0</td>\n",
       "      <td>0.449403</td>\n",
       "      <td>0.320356</td>\n",
       "      <td>0.000000</td>\n",
       "      <td>0.0</td>\n",
       "    </tr>\n",
       "    <tr>\n",
       "      <th>2</th>\n",
       "      <td>0.5</td>\n",
       "      <td>1.0</td>\n",
       "      <td>0.0</td>\n",
       "      <td>1.0</td>\n",
       "      <td>0.0</td>\n",
       "      <td>0.0</td>\n",
       "      <td>0.0</td>\n",
       "      <td>0.0</td>\n",
       "      <td>0.0</td>\n",
       "      <td>0.0</td>\n",
       "      <td>...</td>\n",
       "      <td>0.0</td>\n",
       "      <td>0.0</td>\n",
       "      <td>0.339386</td>\n",
       "      <td>1.0</td>\n",
       "      <td>0.0</td>\n",
       "      <td>0.0</td>\n",
       "      <td>0.557333</td>\n",
       "      <td>0.470199</td>\n",
       "      <td>0.000000</td>\n",
       "      <td>0.0</td>\n",
       "    </tr>\n",
       "    <tr>\n",
       "      <th>3</th>\n",
       "      <td>0.5</td>\n",
       "      <td>1.0</td>\n",
       "      <td>0.0</td>\n",
       "      <td>1.0</td>\n",
       "      <td>0.0</td>\n",
       "      <td>0.0</td>\n",
       "      <td>0.0</td>\n",
       "      <td>0.0</td>\n",
       "      <td>0.0</td>\n",
       "      <td>0.0</td>\n",
       "      <td>...</td>\n",
       "      <td>0.0</td>\n",
       "      <td>0.0</td>\n",
       "      <td>0.339386</td>\n",
       "      <td>1.0</td>\n",
       "      <td>0.0</td>\n",
       "      <td>0.0</td>\n",
       "      <td>0.662555</td>\n",
       "      <td>0.572618</td>\n",
       "      <td>0.166667</td>\n",
       "      <td>0.0</td>\n",
       "    </tr>\n",
       "  </tbody>\n",
       "</table>\n",
       "<p>4 rows × 35 columns</p>\n",
       "</div>"
      ],
      "text/plain": [
       "   Qualification  Gender  Div_0  Div_1  Div_2  Div_3  Div_4  Div_5  Div_6  \\\n",
       "0            1.0     0.0    0.0    1.0    0.0    0.0    0.0    0.0    0.0   \n",
       "1            0.5     1.0    0.0    0.0    1.0    0.0    0.0    0.0    0.0   \n",
       "2            0.5     1.0    0.0    1.0    0.0    0.0    0.0    0.0    0.0   \n",
       "3            0.5     1.0    0.0    1.0    0.0    0.0    0.0    0.0    0.0   \n",
       "\n",
       "   Div_7  ...  Targets_met  Previous_Award  Training_score_average  \\\n",
       "0    0.0  ...          1.0             0.0                0.314329   \n",
       "1    0.0  ...          0.0             0.0                0.548535   \n",
       "2    0.0  ...          0.0             0.0                0.339386   \n",
       "3    0.0  ...          0.0             0.0                0.339386   \n",
       "\n",
       "   Foreign_schooled  Past_Disciplinary_Action  \\\n",
       "0               0.0                       0.0   \n",
       "1               1.0                       0.0   \n",
       "2               1.0                       0.0   \n",
       "3               1.0                       0.0   \n",
       "\n",
       "   Previous_IntraDepartmental_Movement       Age  Length_of_Service  \\\n",
       "0                                  0.0  0.580645           0.507890   \n",
       "1                                  0.0  0.449403           0.320356   \n",
       "2                                  0.0  0.557333           0.470199   \n",
       "3                                  0.0  0.662555           0.572618   \n",
       "\n",
       "   No_of_previous_employers  Promoted_or_Not  \n",
       "0                  0.000000              0.0  \n",
       "1                  0.000000              0.0  \n",
       "2                  0.000000              0.0  \n",
       "3                  0.166667              0.0  \n",
       "\n",
       "[4 rows x 35 columns]"
      ]
     },
     "execution_count": 233,
     "metadata": {},
     "output_type": "execute_result"
    }
   ],
   "source": [
    "prom_train_upsampled = pd.read_csv('train_SMOTEsampled.csv')\n",
    "prom_train_upsampled.head(4)"
   ]
  },
  {
   "cell_type": "code",
   "execution_count": 234,
   "metadata": {},
   "outputs": [],
   "source": [
    "from xgboost import XGBClassifier\n",
    "from vecstack import stacking"
   ]
  },
  {
   "cell_type": "code",
   "execution_count": 235,
   "metadata": {},
   "outputs": [
    {
     "data": {
      "text/plain": [
       "(38312, 35)"
      ]
     },
     "execution_count": 235,
     "metadata": {},
     "output_type": "execute_result"
    }
   ],
   "source": [
    "prom_train_upsampled.shape"
   ]
  },
  {
   "cell_type": "code",
   "execution_count": 236,
   "metadata": {},
   "outputs": [],
   "source": [
    "#from sklearn.decomposition import PCA\n",
    "#import matplotlib.pyplot as plt\n",
    "\n",
    "#array = prom_train_upsampled.values\n",
    "#X = array[:,0:34].astype(float)\n",
    "\n",
    "#pca = PCA(n_components=2)\n",
    "#X = pca.fit_transform(X)\n",
    "#X.shape"
   ]
  },
  {
   "cell_type": "code",
   "execution_count": 237,
   "metadata": {},
   "outputs": [
    {
     "name": "stdout",
     "output_type": "stream",
     "text": [
      "Number transactions X_train dataset:  (30649, 34)\n",
      "Number transactions y_train dataset:  (30649,)\n",
      "Number transactions X_val dataset:  (7663, 34)\n",
      "Number transactions y_val dataset:  (7663,)\n"
     ]
    }
   ],
   "source": [
    "# Split-out validation dataset\n",
    "array = prom_train_upsampled.values\n",
    "df_HR = array[:,0:34].astype(float)\n",
    "target = array[:,34]\n",
    "X_train, X_val, y_train, y_val = train_test_split(df_HR,\n",
    "                                                    target,\n",
    "                                                    test_size=0.2,\n",
    "                                                    random_state=7)\n",
    "\n",
    "print(\"Number transactions X_train dataset: \", X_train.shape)\n",
    "print(\"Number transactions y_train dataset: \", y_train.shape)\n",
    "print(\"Number transactions X_val dataset: \", X_val.shape)\n",
    "print(\"Number transactions y_val dataset: \", y_val.shape)"
   ]
  },
  {
   "cell_type": "code",
   "execution_count": 238,
   "metadata": {},
   "outputs": [],
   "source": [
    "from imblearn.over_sampling import SMOTE\n",
    "sm = SMOTE(random_state=7, ratio='minority')\n",
    "X_train, y_train = sm.fit_sample(X_train, y_train)"
   ]
  },
  {
   "cell_type": "code",
   "execution_count": 239,
   "metadata": {},
   "outputs": [],
   "source": [
    "#from imblearn.combine import SMOTETomek\n",
    "\n",
    "#smt = SMOTETomek(ratio='auto')\n",
    "#X_train, y_train = smt.fit_sample(X_train, y_train)"
   ]
  },
  {
   "cell_type": "code",
   "execution_count": 240,
   "metadata": {},
   "outputs": [
    {
     "name": "stdout",
     "output_type": "stream",
     "text": [
      "Number transactions X_train dataset:  (56102, 34)\n",
      "Number transactions y_train dataset:  (56102,)\n",
      "Number transactions X_val dataset:  (7663, 34)\n",
      "Number transactions y_val dataset:  (7663,)\n"
     ]
    }
   ],
   "source": [
    "print(\"Number transactions X_train dataset: \", X_train.shape)\n",
    "print(\"Number transactions y_train dataset: \", y_train.shape)\n",
    "print(\"Number transactions X_val dataset: \", X_val.shape)\n",
    "print(\"Number transactions y_val dataset: \", y_val.shape)"
   ]
  },
  {
   "cell_type": "code",
   "execution_count": 331,
   "metadata": {},
   "outputs": [],
   "source": [
    "# selection of algorithms to consider and set performance measure\n",
    "models = []\n",
    "models.append(('Random Forest', RandomForestClassifier(max_depth = 25, min_samples_leaf = 1, min_samples_split = 2,\n",
    "    n_estimators=170, random_state=7)))\n",
    "\n",
    "models.append(('Decision Tree Classifier',\n",
    "               DecisionTreeClassifier(random_state=7)))\n",
    "\n",
    "models.append(('XGB',\n",
    "               XGBClassifier(random_state=7, learning_rate=0.1, \n",
    "                  n_estimators=100, max_depth=3)))\n",
    "\n",
    "models.append(('LGBMClassifier',\n",
    "               lgb.LGBMClassifier(random_state=7,boosting_type='gbdt', num_leaves=31, max_depth=-1, learning_rate=0.0001, n_estimators=100, \n",
    "subsample_for_bin=200000, objective='binary', class_weight=None, min_split_gain=0.0, min_child_weight=0.001, \n",
    "min_child_samples=20, subsample=1.0, subsample_freq=0, colsample_bytree=1.0, reg_alpha=0.0, reg_lambda=0.0, \n",
    "n_jobs=-1, silent=True, importance_type='split')))\n"
   ]
  },
  {
   "cell_type": "code",
   "execution_count": 332,
   "metadata": {},
   "outputs": [],
   "source": [
    "# sklearn modules for preprocessing\n",
    "from sklearn.preprocessing import OneHotEncoder, LabelEncoder\n",
    "# from imblearn.over_sampling import SMOTE  # SMOTE\n",
    "# sklearn modules for ML model selection\n",
    "from sklearn.model_selection import train_test_split  # import 'train_test_split'\n",
    "from sklearn.model_selection import GridSearchCV\n",
    "from sklearn.model_selection import RandomizedSearchCV\n",
    "from sklearn.model_selection import ShuffleSplit\n",
    "from sklearn.model_selection import KFold\n",
    "from sklearn.model_selection import cross_val_score\n",
    "\n",
    "# Libraries for data modelling\n",
    "from sklearn import svm, tree, linear_model, neighbors\n",
    "from sklearn import naive_bayes, ensemble, discriminant_analysis, gaussian_process\n",
    "from sklearn.linear_model import LogisticRegression\n",
    "from sklearn.tree import DecisionTreeClassifier\n",
    "from sklearn.neighbors import KNeighborsClassifier\n",
    "from sklearn.discriminant_analysis import LinearDiscriminantAnalysis\n",
    "from sklearn.naive_bayes import GaussianNB\n",
    "from sklearn.svm import SVC\n",
    "from sklearn.neighbors import KNeighborsClassifier\n",
    "#from xgboost import XGBClassifier\n",
    "from sklearn.ensemble import RandomForestClassifier\n",
    "\n",
    "# Common sklearn Model Helpers\n",
    "from sklearn import feature_selection\n",
    "from sklearn import model_selection\n",
    "from sklearn import metrics\n",
    "# from sklearn.datasets import make_classification\n",
    "\n",
    "# sklearn modules for performance metrics\n",
    "from sklearn.metrics import confusion_matrix, classification_report, precision_recall_curve\n",
    "from sklearn.metrics import auc, roc_auc_score, roc_curve, recall_score, log_loss\n",
    "from sklearn.metrics import f1_score, accuracy_score, roc_auc_score, make_scorer\n",
    "from sklearn.metrics import average_precision_score"
   ]
  },
  {
   "cell_type": "code",
   "execution_count": 333,
   "metadata": {},
   "outputs": [
    {
     "data": {
      "text/html": [
       "<div>\n",
       "<style scoped>\n",
       "    .dataframe tbody tr th:only-of-type {\n",
       "        vertical-align: middle;\n",
       "    }\n",
       "\n",
       "    .dataframe tbody tr th {\n",
       "        vertical-align: top;\n",
       "    }\n",
       "\n",
       "    .dataframe thead th {\n",
       "        text-align: right;\n",
       "    }\n",
       "</style>\n",
       "<table border=\"1\" class=\"dataframe\">\n",
       "  <thead>\n",
       "    <tr style=\"text-align: right;\">\n",
       "      <th></th>\n",
       "      <th>Algorithm</th>\n",
       "      <th>Accuracy Mean</th>\n",
       "      <th>Accuracy STD</th>\n",
       "    </tr>\n",
       "  </thead>\n",
       "  <tbody>\n",
       "    <tr>\n",
       "      <th>0</th>\n",
       "      <td>Random Forest</td>\n",
       "      <td>96.62</td>\n",
       "      <td>2.75</td>\n",
       "    </tr>\n",
       "    <tr>\n",
       "      <th>1</th>\n",
       "      <td>Decision Tree Classifier</td>\n",
       "      <td>93.61</td>\n",
       "      <td>4.49</td>\n",
       "    </tr>\n",
       "    <tr>\n",
       "      <th>2</th>\n",
       "      <td>XGB</td>\n",
       "      <td>92.60</td>\n",
       "      <td>1.59</td>\n",
       "    </tr>\n",
       "    <tr>\n",
       "      <th>3</th>\n",
       "      <td>LGBMClassifier</td>\n",
       "      <td>8.50</td>\n",
       "      <td>12.03</td>\n",
       "    </tr>\n",
       "  </tbody>\n",
       "</table>\n",
       "</div>"
      ],
      "text/plain": [
       "                  Algorithm  Accuracy Mean  Accuracy STD\n",
       "0             Random Forest          96.62          2.75\n",
       "1  Decision Tree Classifier          93.61          4.49\n",
       "2                       XGB          92.60          1.59\n",
       "3            LGBMClassifier           8.50         12.03"
      ]
     },
     "execution_count": 333,
     "metadata": {},
     "output_type": "execute_result"
    }
   ],
   "source": [
    "acc_results = []\n",
    "#auc_results = []\n",
    "names = []\n",
    "# set table to table to populate with performance results\n",
    "#col = ['Algorithm', 'ROC AUC Mean', 'ROC AUC STD', \n",
    "       #'Accuracy Mean', 'Accuracy STD']\n",
    "col = ['Algorithm', \n",
    "       'Accuracy Mean', 'Accuracy STD']\n",
    "df_results = pd.DataFrame(columns=col)\n",
    "i = 0\n",
    "# evaluate each model using cross-validation\n",
    "for name, model in models:\n",
    "    kfold = model_selection.KFold(\n",
    "        n_splits=10, random_state=7)  # 10-fold cross-validation\n",
    "\n",
    "    cv_acc_results = model_selection.cross_val_score(  # accuracy scoring\n",
    "        model, X_train, y_train, cv=kfold, scoring='accuracy')\n",
    "    #cv_auc_results = model_selection.cross_val_score(  # roc_auc scoring\n",
    "        #model, X_train, y_train, cv=kfold, scoring='roc_auc')\n",
    "\n",
    "    acc_results.append(cv_acc_results)\n",
    "    #auc_results.append(cv_auc_results)\n",
    "    names.append(name)\n",
    "    df_results.loc[i] = [name,\n",
    "                         #round(cv_auc_results.mean()*100, 2),\n",
    "                         #round(cv_auc_results.std()*100, 2),\n",
    "                         round(cv_acc_results.mean()*100, 2),\n",
    "                         round(cv_acc_results.std()*100, 2)\n",
    "                         ]\n",
    "    i += 1\n",
    "    \n",
    "#df_results.sort_values(by=['ROC AUC Mean'], ascending=False)\n",
    "df_results.sort_values(by=['Accuracy Mean'], ascending=False)\n"
   ]
  },
  {
   "cell_type": "code",
   "execution_count": 334,
   "metadata": {
    "scrolled": true
   },
   "outputs": [
    {
     "data": {
      "image/png": "[encoded data removed]",
      "text/plain": [
       "<Figure size 1080x504 with 1 Axes>"
      ]
     },
     "metadata": {
      "needs_background": "light"
     },
     "output_type": "display_data"
    }
   ],
   "source": [
    "fig = plt.figure(figsize=(15, 7))\n",
    "fig.suptitle('Algorithm Accuracy Comparison')\n",
    "ax = fig.add_subplot(111)\n",
    "plt.boxplot(acc_results)\n",
    "ax.set_xticklabels(names)\n",
    "plt.show()"
   ]
  },
  {
   "cell_type": "code",
   "execution_count": 335,
   "metadata": {},
   "outputs": [
    {
     "name": "stdout",
     "output_type": "stream",
     "text": [
      "93.44\n"
     ]
    }
   ],
   "source": [
    "# create the ensemble model\n",
    "from sklearn.ensemble import VotingClassifier\n",
    "ensemble = VotingClassifier(models)#, voting='soft', weights = [2,1,1]\n",
    "results = cross_val_score(  # accuracy scoring\n",
    "        ensemble, X_train, y_train, cv=kfold, scoring='accuracy')\n",
    "print(round(results.mean()*100, 2))"
   ]
  },
  {
   "cell_type": "code",
   "execution_count": 336,
   "metadata": {},
   "outputs": [
    {
     "name": "stdout",
     "output_type": "stream",
     "text": [
      "0.9308364870155291\n",
      "0.418859649122807\n",
      "              precision    recall  f1-score   support\n",
      "\n",
      "         0.0       0.94      0.99      0.96      7020\n",
      "         1.0       0.71      0.30      0.42       643\n",
      "\n",
      "    accuracy                           0.93      7663\n",
      "   macro avg       0.82      0.64      0.69      7663\n",
      "weighted avg       0.92      0.93      0.92      7663\n",
      "\n",
      "Accuracy of Ensemble model on test set: 93.08\n"
     ]
    }
   ],
   "source": [
    "from sklearn.metrics import f1_score\n",
    "model_ens = ensemble.fit(X_train, y_train)\n",
    "predictions = model_ens.predict(X_val)\n",
    "print(accuracy_score(y_val, predictions))\n",
    "print(f1_score(y_val, predictions))\n",
    "print(classification_report(y_val, predictions))\n",
    "print('Accuracy of Ensemble model on test set: {:.2f}'.format(model_ens.score(X_val, y_val)*100))\n"
   ]
  },
  {
   "cell_type": "code",
   "execution_count": 337,
   "metadata": {},
   "outputs": [
    {
     "name": "stdout",
     "output_type": "stream",
     "text": [
      "0.9260080908260473\n",
      "0.40875912408759124\n",
      "              precision    recall  f1-score   support\n",
      "\n",
      "         0.0       0.94      0.98      0.96      7020\n",
      "         1.0       0.62      0.30      0.41       643\n",
      "\n",
      "    accuracy                           0.93      7663\n",
      "   macro avg       0.78      0.64      0.68      7663\n",
      "weighted avg       0.91      0.93      0.91      7663\n",
      "\n",
      "Accuracy of Random Forest model on test set: 92.60\n"
     ]
    }
   ],
   "source": [
    "rfc = RandomForestClassifier(max_depth = 25, min_samples_leaf = 1, min_samples_split = 2,\n",
    "    n_estimators=170, random_state=7)\n",
    "model_rfc = rfc.fit(X_train, y_train)\n",
    "predictions = model_rfc.predict(X_val)\n",
    "print(accuracy_score(y_val, predictions))\n",
    "print(f1_score(y_val, predictions))\n",
    "print(classification_report(y_val, predictions))\n",
    "print('Accuracy of Random Forest model on test set: {:.2f}'.format(model_rfc.score(X_val, y_val)*100))"
   ]
  },
  {
   "cell_type": "code",
   "execution_count": 338,
   "metadata": {},
   "outputs": [
    {
     "name": "stdout",
     "output_type": "stream",
     "text": [
      "0.889077384836226\n",
      "0.4113573407202217\n",
      "              precision    recall  f1-score   support\n",
      "\n",
      "         0.0       0.95      0.93      0.94      7020\n",
      "         1.0       0.37      0.46      0.41       643\n",
      "\n",
      "    accuracy                           0.89      7663\n",
      "   macro avg       0.66      0.70      0.68      7663\n",
      "weighted avg       0.90      0.89      0.89      7663\n",
      "\n",
      "Accuracy of CART model on test set: 88.91\n"
     ]
    }
   ],
   "source": [
    "cart =  DecisionTreeClassifier(random_state=7)\n",
    "model_cart = cart.fit(X_train, y_train)\n",
    "predictions = model_cart.predict(X_val)\n",
    "print(accuracy_score(y_val, predictions))\n",
    "print(f1_score(y_val, predictions))\n",
    "print(classification_report(y_val, predictions))\n",
    "print('Accuracy of CART model on test set: {:.2f}'.format(model_cart.score(X_val, y_val)*100))"
   ]
  },
  {
   "cell_type": "code",
   "execution_count": 339,
   "metadata": {},
   "outputs": [
    {
     "name": "stdout",
     "output_type": "stream",
     "text": [
      "0.917786767584497\n",
      "0.4144981412639405\n",
      "              precision    recall  f1-score   support\n",
      "\n",
      "         0.0       0.94      0.97      0.96      7020\n",
      "         1.0       0.52      0.35      0.41       643\n",
      "\n",
      "    accuracy                           0.92      7663\n",
      "   macro avg       0.73      0.66      0.69      7663\n",
      "weighted avg       0.91      0.92      0.91      7663\n",
      "\n",
      "Accuracy of XGB model on test set: 91.78\n"
     ]
    }
   ],
   "source": [
    "xgb = XGBClassifier(random_state=7, learning_rate=0.1, \n",
    "                  n_estimators=100, max_depth=3)\n",
    "model_xgb = xgb.fit(X_train, y_train)\n",
    "predictions = model_xgb.predict(X_val)\n",
    "print(accuracy_score(y_val, predictions))\n",
    "print(f1_score(y_val, predictions))\n",
    "print(classification_report(y_val, predictions))\n",
    "print('Accuracy of XGB model on test set: {:.2f}'.format(model_xgb.score(X_val, y_val)*100))"
   ]
  },
  {
   "cell_type": "code",
   "execution_count": 340,
   "metadata": {},
   "outputs": [
    {
     "name": "stdout",
     "output_type": "stream",
     "text": [
      "0.9410152681717343\n",
      "0.5\n",
      "              precision    recall  f1-score   support\n",
      "\n",
      "         0.0       0.94      1.00      0.97      7020\n",
      "         1.0       0.87      0.35      0.50       643\n",
      "\n",
      "    accuracy                           0.94      7663\n",
      "   macro avg       0.90      0.67      0.73      7663\n",
      "weighted avg       0.94      0.94      0.93      7663\n",
      "\n",
      "Accuracy of LGBM model on test set: 94.10\n"
     ]
    }
   ],
   "source": [
    "lgbm =lgb.LGBMClassifier(boosting_type= 'dart', class_weight= None, colsample_bytree= 0.880683867295047, learning_rate= 0.19551187838964745, min_child_samples= 435, num_leaves= 45, reg_alpha= 0.2878847550683644, reg_lambda= 0.01708657132205149,\n",
    "                                  subsample_for_bin= 240000, subsample= 0.5170383307975128)\n",
    "model_lgbm = lgbm.fit(X_train, y_train)\n",
    "predictions = model_lgbm.predict(X_val)\n",
    "print(accuracy_score(y_val, predictions))\n",
    "print(f1_score(y_val, predictions))\n",
    "print(classification_report(y_val, predictions))\n",
    "print('Accuracy of LGBM model on test set: {:.2f}'.format(model_lgbm.score(X_val, y_val)*100))"
   ]
  },
  {
   "cell_type": "code",
   "execution_count": 341,
   "metadata": {},
   "outputs": [
    {
     "data": {
      "text/plain": [
       "Text(0.5, 257.44, 'Predicted label')"
      ]
     },
     "execution_count": 341,
     "metadata": {},
     "output_type": "execute_result"
    },
    {
     "data": {
      "image/png": "[encoded data removed]",
      "text/plain": [
       "<Figure size 432x288 with 2 Axes>"
      ]
     },
     "metadata": {
      "needs_background": "light"
     },
     "output_type": "display_data"
    }
   ],
   "source": [
    "\n",
    "## Confusion Matrix\n",
    "cnf_matrix = metrics.confusion_matrix(y_val, model_ens.predict(X_val))\n",
    "class_names=[0,1] # name  of classes\n",
    "fig, ax = plt.subplots()\n",
    "tick_marks = np.arange(len(class_names))\n",
    "plt.xticks(tick_marks, class_names)\n",
    "plt.yticks(tick_marks, class_names)\n",
    "# create heatmap\n",
    "sns.heatmap(pd.DataFrame(cnf_matrix), annot=True, cmap=\"YlGnBu\" ,fmt='g')\n",
    "ax.xaxis.set_label_position(\"top\")\n",
    "plt.tight_layout()\n",
    "plt.title('Confusion matrix', y=1.1)\n",
    "plt.ylabel('Actual label')\n",
    "plt.xlabel('Predicted label')"
   ]
  },
  {
   "cell_type": "code",
   "execution_count": 342,
   "metadata": {},
   "outputs": [
    {
     "data": {
      "text/html": [
       "<div>\n",
       "<style scoped>\n",
       "    .dataframe tbody tr th:only-of-type {\n",
       "        vertical-align: middle;\n",
       "    }\n",
       "\n",
       "    .dataframe tbody tr th {\n",
       "        vertical-align: top;\n",
       "    }\n",
       "\n",
       "    .dataframe thead th {\n",
       "        text-align: right;\n",
       "    }\n",
       "</style>\n",
       "<table border=\"1\" class=\"dataframe\">\n",
       "  <thead>\n",
       "    <tr style=\"text-align: right;\">\n",
       "      <th></th>\n",
       "      <th>Qualification</th>\n",
       "      <th>Gender</th>\n",
       "      <th>Div_0</th>\n",
       "      <th>Div_1</th>\n",
       "      <th>Div_2</th>\n",
       "      <th>Div_3</th>\n",
       "      <th>Div_4</th>\n",
       "      <th>Div_5</th>\n",
       "      <th>Div_6</th>\n",
       "      <th>Div_7</th>\n",
       "      <th>...</th>\n",
       "      <th>Last_performance_score</th>\n",
       "      <th>Targets_met</th>\n",
       "      <th>Previous_Award</th>\n",
       "      <th>Training_score_average</th>\n",
       "      <th>Foreign_schooled</th>\n",
       "      <th>Past_Disciplinary_Action</th>\n",
       "      <th>Previous_IntraDepartmental_Movement</th>\n",
       "      <th>Age</th>\n",
       "      <th>Length_of_Service</th>\n",
       "      <th>No_of_previous_employers</th>\n",
       "    </tr>\n",
       "  </thead>\n",
       "  <tbody>\n",
       "    <tr>\n",
       "      <th>0</th>\n",
       "      <td>0.5</td>\n",
       "      <td>1.0</td>\n",
       "      <td>0.0</td>\n",
       "      <td>0.0</td>\n",
       "      <td>0.0</td>\n",
       "      <td>1.0</td>\n",
       "      <td>0.0</td>\n",
       "      <td>0.0</td>\n",
       "      <td>0.0</td>\n",
       "      <td>0.0</td>\n",
       "      <td>...</td>\n",
       "      <td>0.6</td>\n",
       "      <td>0.0</td>\n",
       "      <td>0.0</td>\n",
       "      <td>0.744125</td>\n",
       "      <td>1.0</td>\n",
       "      <td>0.0</td>\n",
       "      <td>0.0</td>\n",
       "      <td>0.801878</td>\n",
       "      <td>0.159042</td>\n",
       "      <td>0.166667</td>\n",
       "    </tr>\n",
       "    <tr>\n",
       "      <th>1</th>\n",
       "      <td>0.5</td>\n",
       "      <td>1.0</td>\n",
       "      <td>0.0</td>\n",
       "      <td>0.0</td>\n",
       "      <td>0.0</td>\n",
       "      <td>1.0</td>\n",
       "      <td>0.0</td>\n",
       "      <td>0.0</td>\n",
       "      <td>0.0</td>\n",
       "      <td>0.0</td>\n",
       "      <td>...</td>\n",
       "      <td>0.0</td>\n",
       "      <td>0.0</td>\n",
       "      <td>0.0</td>\n",
       "      <td>0.792796</td>\n",
       "      <td>1.0</td>\n",
       "      <td>0.0</td>\n",
       "      <td>0.0</td>\n",
       "      <td>0.473326</td>\n",
       "      <td>0.000000</td>\n",
       "      <td>0.166667</td>\n",
       "    </tr>\n",
       "    <tr>\n",
       "      <th>2</th>\n",
       "      <td>1.0</td>\n",
       "      <td>1.0</td>\n",
       "      <td>0.0</td>\n",
       "      <td>0.0</td>\n",
       "      <td>0.0</td>\n",
       "      <td>0.0</td>\n",
       "      <td>0.0</td>\n",
       "      <td>0.0</td>\n",
       "      <td>0.0</td>\n",
       "      <td>1.0</td>\n",
       "      <td>...</td>\n",
       "      <td>0.6</td>\n",
       "      <td>0.0</td>\n",
       "      <td>0.0</td>\n",
       "      <td>0.868480</td>\n",
       "      <td>1.0</td>\n",
       "      <td>0.0</td>\n",
       "      <td>0.0</td>\n",
       "      <td>0.657710</td>\n",
       "      <td>0.491797</td>\n",
       "      <td>0.166667</td>\n",
       "    </tr>\n",
       "  </tbody>\n",
       "</table>\n",
       "<p>3 rows × 34 columns</p>\n",
       "</div>"
      ],
      "text/plain": [
       "   Qualification  Gender  Div_0  Div_1  Div_2  Div_3  Div_4  Div_5  Div_6  \\\n",
       "0            0.5     1.0    0.0    0.0    0.0    1.0    0.0    0.0    0.0   \n",
       "1            0.5     1.0    0.0    0.0    0.0    1.0    0.0    0.0    0.0   \n",
       "2            1.0     1.0    0.0    0.0    0.0    0.0    0.0    0.0    0.0   \n",
       "\n",
       "   Div_7  ...  Last_performance_score  Targets_met  Previous_Award  \\\n",
       "0    0.0  ...                     0.6          0.0             0.0   \n",
       "1    0.0  ...                     0.0          0.0             0.0   \n",
       "2    1.0  ...                     0.6          0.0             0.0   \n",
       "\n",
       "   Training_score_average  Foreign_schooled  Past_Disciplinary_Action  \\\n",
       "0                0.744125               1.0                       0.0   \n",
       "1                0.792796               1.0                       0.0   \n",
       "2                0.868480               1.0                       0.0   \n",
       "\n",
       "   Previous_IntraDepartmental_Movement       Age  Length_of_Service  \\\n",
       "0                                  0.0  0.801878           0.159042   \n",
       "1                                  0.0  0.473326           0.000000   \n",
       "2                                  0.0  0.657710           0.491797   \n",
       "\n",
       "   No_of_previous_employers  \n",
       "0                  0.166667  \n",
       "1                  0.166667  \n",
       "2                  0.166667  \n",
       "\n",
       "[3 rows x 34 columns]"
      ]
     },
     "execution_count": 342,
     "metadata": {},
     "output_type": "execute_result"
    }
   ],
   "source": [
    "import pandas as pd\n",
    "prom_tested = pd.read_csv('Newtest_dataframe.csv')\n",
    "prom_tested.head(3)"
   ]
  },
  {
   "cell_type": "code",
   "execution_count": 343,
   "metadata": {},
   "outputs": [],
   "source": [
    "#prom_tested = prom_tested[['Trainings_Attended', 'Last_performance_score', 'Previous_Award']]"
   ]
  },
  {
   "cell_type": "code",
   "execution_count": 344,
   "metadata": {},
   "outputs": [],
   "source": [
    "# X_test\n",
    "array = prom_tested.values\n",
    "X_test1 = array[:,0:34].astype(float)"
   ]
  },
  {
   "cell_type": "code",
   "execution_count": 345,
   "metadata": {},
   "outputs": [
    {
     "name": "stdout",
     "output_type": "stream",
     "text": [
      "[0. 0. 0. ... 0. 0. 0.]\n"
     ]
    }
   ],
   "source": [
    "prediction_test = model_ens.predict(X_test1)\n",
    "#prediction_test = model_lgbm.predict(X_test1)\n",
    "print(prediction_test)"
   ]
  },
  {
   "cell_type": "code",
   "execution_count": 346,
   "metadata": {},
   "outputs": [
    {
     "data": {
      "text/html": [
       "<div>\n",
       "<style scoped>\n",
       "    .dataframe tbody tr th:only-of-type {\n",
       "        vertical-align: middle;\n",
       "    }\n",
       "\n",
       "    .dataframe tbody tr th {\n",
       "        vertical-align: top;\n",
       "    }\n",
       "\n",
       "    .dataframe thead th {\n",
       "        text-align: right;\n",
       "    }\n",
       "</style>\n",
       "<table border=\"1\" class=\"dataframe\">\n",
       "  <thead>\n",
       "    <tr style=\"text-align: right;\">\n",
       "      <th></th>\n",
       "      <th>EmployeeNo</th>\n",
       "      <th>Promoted_or_Not</th>\n",
       "    </tr>\n",
       "  </thead>\n",
       "  <tbody>\n",
       "    <tr>\n",
       "      <th>0</th>\n",
       "      <td>YAK/S/00005</td>\n",
       "      <td>0</td>\n",
       "    </tr>\n",
       "    <tr>\n",
       "      <th>1</th>\n",
       "      <td>YAK/S/00011</td>\n",
       "      <td>0</td>\n",
       "    </tr>\n",
       "    <tr>\n",
       "      <th>2</th>\n",
       "      <td>YAK/S/00015</td>\n",
       "      <td>0</td>\n",
       "    </tr>\n",
       "    <tr>\n",
       "      <th>3</th>\n",
       "      <td>YAK/S/00016</td>\n",
       "      <td>0</td>\n",
       "    </tr>\n",
       "    <tr>\n",
       "      <th>4</th>\n",
       "      <td>YAK/S/00017</td>\n",
       "      <td>0</td>\n",
       "    </tr>\n",
       "  </tbody>\n",
       "</table>\n",
       "</div>"
      ],
      "text/plain": [
       "    EmployeeNo  Promoted_or_Not\n",
       "0  YAK/S/00005                0\n",
       "1  YAK/S/00011                0\n",
       "2  YAK/S/00015                0\n",
       "3  YAK/S/00016                0\n",
       "4  YAK/S/00017                0"
      ]
     },
     "execution_count": 346,
     "metadata": {},
     "output_type": "execute_result"
    }
   ],
   "source": [
    "prom_test = pd.read_csv('test.csv', index_col=None)\n",
    "employee_id = prom_test['EmployeeNo']\n",
    "Promotion = pd.DataFrame(prediction_test).astype('int')\n",
    "model_predict = pd.concat([employee_id, Promotion],axis=1, ignore_index=True)\n",
    "model_predict.columns = ['EmployeeNo', 'Promoted_or_Not']  #naming the dataframe columns\n",
    "model_predict.head()"
   ]
  },
  {
   "cell_type": "code",
   "execution_count": 347,
   "metadata": {},
   "outputs": [],
   "source": [
    "#The data is exported for use in the exploration and clustering section\n",
    "model_predict.to_csv (r'C:\\Users\\OLUMEGBON ISMAIL\\Desktop\\Jupyter\\ismail_kaggle45.csv', index = None, header=True)"
   ]
  },
  {
   "cell_type": "code",
   "execution_count": 348,
   "metadata": {},
   "outputs": [],
   "source": [
    "#(boosting_type='gbdt', num_leaves=31, max_depth=-1, learning_rate=0.1, n_estimators=100, \n",
    "# subsample_for_bin=200000, objective=None, class_weight=None, min_split_gain=0.0, min_child_weight=0.001, \n",
    "# min_child_samples=20, subsample=1.0, subsample_freq=0, colsample_bytree=1.0, reg_alpha=0.0, reg_lambda=0.0, \n",
    "# random_state=None, n_jobs=-1, silent=True, importance_type='split', **kwargs)\n",
    "\n",
    "\n",
    "#{'boosting_type': 'dart', 'class_weight': None, 'colsample_bytree': 0.880683867295047, 'learning_rate': 0.19551187838964745, 'min_child_samples': 435, 'num_leaves': 45, 'reg_alpha': 0.2878847550683644, 'reg_lambda': 0.01708657132205149, 'subsample_for_bin': 240000, 'subsample': 0.5170383307975128}\n"
   ]
  }
 ],
 "metadata": {
  "kernelspec": {
   "display_name": "Python 3",
   "language": "python",
   "name": "python3"
  },
  "language_info": {
   "codemirror_mode": {
    "name": "ipython",
    "version": 3
   },
   "file_extension": ".py",
   "mimetype": "text/x-python",
   "name": "python",
   "nbconvert_exporter": "python",
   "pygments_lexer": "ipython3",
   "version": "3.7.3"
  }
 },
 "nbformat": 4,
 "nbformat_minor": 2
}
